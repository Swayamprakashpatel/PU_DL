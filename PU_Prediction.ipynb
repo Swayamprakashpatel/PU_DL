{
  "nbformat": 4,
  "nbformat_minor": 0,
  "metadata": {
    "colab": {
      "name": "PU_Prediction.ipynb",
      "provenance": [],
      "authorship_tag": "ABX9TyP7NwC5W8IqU1f2Rvnjxgow",
      "include_colab_link": true
    },
    "kernelspec": {
      "name": "python3",
      "display_name": "Python 3"
    },
    "language_info": {
      "name": "python"
    }
  },
  "cells": [
    {
      "cell_type": "markdown",
      "metadata": {
        "id": "view-in-github",
        "colab_type": "text"
      },
      "source": [
        "<a href=\"https://colab.research.google.com/github/Swayamprakashpatel/PU_DL/blob/main/PU_Prediction.ipynb\" target=\"_parent\"><img src=\"https://colab.research.google.com/assets/colab-badge.svg\" alt=\"Open In Colab\"/></a>"
      ]
    },
    {
      "cell_type": "markdown",
      "source": [
        "\n",
        "\n",
        "**# STEP - 1 : LOAD POWDER UNIFORMITY DEEP LEARNING MODEL**\n",
        "\n",
        "(Download and extract the Authentication File Kaggle.json from [HERE](https://github.com/Swayamprakashpatel/PU_DL.git) )"
      ],
      "metadata": {
        "id": "binfEmDfj7zK"
      }
    },
    {
      "cell_type": "code",
      "execution_count": null,
      "metadata": {
        "cellView": "form",
        "id": "krTNyFpkjhKk"
      },
      "outputs": [],
      "source": [
        "#@title Select kaggle.json file when prompt \"choose file\" ()\n",
        "import random\n",
        "import pandas as pd\n",
        "import numpy as np\n",
        "import os\n",
        "import tensorflow as tf\n",
        "import cv2\n",
        "from tensorflow import keras\n",
        "from tensorflow.keras.models import Sequential, Model, load_model\n",
        "from  matplotlib import pyplot as plt\n",
        "import matplotlib.image as mpimg\n",
        "%matplotlib inline\n",
        "\n",
        "from tensorflow.keras.preprocessing.image import ImageDataGenerator\n",
        "from tensorflow.keras.layers import Conv2D, MaxPool2D, Flatten, Dense, Dropout\n",
        "from tensorflow.keras.applications.imagenet_utils import decode_predictions\n",
        "\n",
        "from google.colab import files\n",
        "\n",
        "#@title Prediction \n",
        "#Prediction\n",
        "#%%capture\n",
        "\n",
        "from google.colab import files\n",
        "files.upload()  #this will prompt you to upload the kaggle.json\n",
        "\n",
        "#Make Directory of Kaggle and set its permission for access.\n",
        "!pip install -q kaggle\n",
        "!mkdir -p ~/.kaggle\n",
        "!cp kaggle.json ~/.kaggle/\n",
        "!ls ~/.kaggle\n",
        "!chmod 600 /root/.kaggle/kaggle.json  # set permission\n",
        "\n",
        "# Download Data from Kaggle Fast and Unzip them in /content\n",
        "!kaggle datasets download -d drswayamprakashpatel/powderblend -p /content\n",
        "\n",
        "#Unzip data (Two Folders - Training and Validation)\n",
        "import os\n",
        "os.chdir('/content')\n",
        "#create a directory named train/\n",
        "!unzip -q powderblend.zip\n"
      ]
    },
    {
      "cell_type": "markdown",
      "source": [
        "**#STEP -2: LOAD MICROSCOPIC IMAGES FOR PREDICTION**"
      ],
      "metadata": {
        "id": "iwdMBSrhkiml"
      }
    },
    {
      "cell_type": "code",
      "source": [
        "\n",
        "#@title Selecct Image/Images (.jpg format only) when promt \"choose file\" \n",
        "\n",
        "!mkdir -p /content/Prediction/Images\n",
        "files.upload()\n",
        "!mv *.jpg /content/Prediction/Images\n",
        "\n",
        "\n",
        "batch_size = 10\n",
        "IMG_HEIGHT, IMG_WIDTH = (1000,1000)\n",
        "\n",
        "Pred_Dir = '/content/Prediction'\n",
        "Prediction = ImageDataGenerator(rescale = 1./255)\n",
        "Pred_Data =  Prediction.flow_from_directory(\n",
        "                    directory=Pred_Dir,\n",
        "                    batch_size= batch_size,\n",
        "                    shuffle=False,\n",
        "                    target_size=(IMG_HEIGHT,IMG_WIDTH),\n",
        "                    class_mode=None)\n",
        "#Pred_Data.reset()\n",
        "from keras.models import load_model\n",
        "\n",
        "model = load_model('/content/DL_Model.hdf5')\n",
        "Prediction = np.round(model.predict(Pred_Data))\n",
        "Prediction = np.any(Prediction, axis=1)\n",
        "\n",
        "\n",
        "#Multiple images' prediction with image caption\n",
        "\n",
        "labels = ({'MIXED': 0, 'NOT MIXED': 1})\n",
        "labels = dict((v,k) for k,v in labels.items())\n",
        "predictions = [labels[k] for k in Prediction]\n",
        "filenames = Pred_Data.filenames\n",
        "results = pd.DataFrame({\"Filename\":filenames,\n",
        "                      \"Predictions\":predictions})\n",
        "%rm -rf Prediction\n",
        "print(results)"
      ],
      "metadata": {
        "cellView": "form",
        "id": "UYooitt3jmbK"
      },
      "execution_count": null,
      "outputs": []
    }
  ]
}
